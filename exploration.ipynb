{
 "cells": [
  {
   "cell_type": "code",
   "execution_count": null,
   "id": "9515c19c",
   "metadata": {},
   "outputs": [],
   "source": [
    "data = Dataset()"
   ]
  },
  {
   "cell_type": "code",
   "execution_count": null,
   "id": "224a54f3",
   "metadata": {},
   "outputs": [],
   "source": [
    "import matplotlib.pyplot as plt \n",
    "k = 1\n",
    "plt.figure(figsize=(10,4))\n",
    "plt.title(f'Time Series example, is anomalous: {data.Y[k]}')\n",
    "plt.plot(data.X[k])"
   ]
  },
  {
   "cell_type": "code",
   "execution_count": null,
   "id": "c194512d",
   "metadata": {},
   "outputs": [],
   "source": [
    "from data import * \n",
    "from model import *\n",
    "data = Dataset()\n",
    "data.to_torch()\n",
    "data.train_val_test_split()\n",
    "model = AttentionModel()\n",
    "model.train_model(data=data)"
   ]
  },
  {
   "cell_type": "code",
   "execution_count": null,
   "id": "11cc0de9",
   "metadata": {},
   "outputs": [],
   "source": [
    "import matplotlib.pyplot as plt\n",
    "import numpy as np\n",
    "import torch\n",
    "\n",
    "def plot_attention(sample_X, attention_weights, title=\"Attention over Time\", save_path=None):\n",
    "    \"\"\"\n",
    "    Visualizes attention weights over the input time series.\n",
    "\n",
    "    Args:\n",
    "        sample_X: torch.Tensor or np.array of shape (seq_len, 1)\n",
    "        attention_weights: torch.Tensor or np.array of shape (seq_len,)\n",
    "        title: plot title\n",
    "        save_path: optional path to save the figure\n",
    "    \"\"\"\n",
    "    if isinstance(sample_X, torch.Tensor):\n",
    "        sample_X = sample_X.detach().cpu().numpy().squeeze()\n",
    "    if isinstance(attention_weights, torch.Tensor):\n",
    "        attention_weights = attention_weights.detach().cpu().numpy().squeeze()\n",
    "\n",
    "    seq_len = len(sample_X)\n",
    "    time_steps = np.arange(seq_len)\n",
    "\n",
    "    fig, ax1 = plt.subplots(figsize=(10, 4))\n",
    "\n",
    "    ax1.set_title(title)\n",
    "    ax1.set_xlabel(\"Time Step\")\n",
    "    ax1.set_ylabel(\"Signal\", color='blue')\n",
    "    ax1.plot(time_steps, sample_X, color='blue', linewidth=2)\n",
    "    ax1.tick_params(axis='y', labelcolor='blue')\n",
    "\n",
    "    ax2 = ax1.twinx()\n",
    "    ax2.set_ylabel(\"Attention\", color='red')\n",
    "    ax2.plot(time_steps, attention_weights*10, color='red', linestyle='--', alpha=0.7)\n",
    "    ax2.tick_params(axis='y', labelcolor='red')\n",
    "    ax2.set_ylim(0, 1.1)\n",
    "\n",
    "    plt.tight_layout()\n",
    "    if save_path:\n",
    "        plt.savefig(save_path)\n",
    "    plt.show()"
   ]
  },
  {
   "cell_type": "code",
   "execution_count": null,
   "id": "d796c67f",
   "metadata": {},
   "outputs": [],
   "source": [
    "from utils import * \n",
    "model.eval()\n",
    "k = 2\n",
    "with torch.no_grad():\n",
    "    for batch_X, batch_Y in data.val_loader:\n",
    "        batch_X = batch_X.to('cpu')\n",
    "        outputs, attn_weights = model(batch_X)\n",
    "\n",
    "        # Let's plot the first sample in the batch\n",
    "        plot_attention(batch_X[k], attn_weights[k], title=\"Attention in Normal Sine\")\n",
    "        break"
   ]
  },
  {
   "cell_type": "code",
   "execution_count": null,
   "id": "7766622d",
   "metadata": {},
   "outputs": [],
   "source": [
    "def evaluate_model(model, dataloader, device=\"cpu\"):\n",
    "    model.eval()\n",
    "\n",
    "    all_preds = []\n",
    "    all_labels = []\n",
    "\n",
    "    with torch.no_grad():\n",
    "        for batch_X, batch_Y in dataloader:\n",
    "            batch_X = batch_X.to(device)\n",
    "            batch_Y = batch_Y.to(device)\n",
    "\n",
    "            outputs, _ = model(batch_X)\n",
    "            preds = (outputs > 0.5).float()  # binary thresholding\n",
    "\n",
    "            all_preds.extend(preds.cpu().numpy())\n",
    "            all_labels.extend(batch_Y.cpu().numpy())\n",
    "\n",
    "    all_preds = np.array(all_preds).flatten()\n",
    "    all_labels = np.array(all_labels).flatten()\n",
    "\n",
    "    acc = accuracy_score(all_labels, all_preds)\n",
    "    prec = precision_score(all_labels, all_preds, zero_division=0)\n",
    "    rec = recall_score(all_labels, all_preds)\n",
    "    f1 = f1_score(all_labels, all_preds)\n",
    "    auc = roc_auc_score(all_labels, all_preds)\n",
    "\n",
    "    print(f\"Accuracy      : {acc:.4f}\")\n",
    "    print(f\"Precision     : {prec:.4f}\")\n",
    "    print(f\"Recall        : {rec:.4f}\")\n",
    "    print(f\"F1 Score      : {f1:.4f}\")\n",
    "    print(f\"ROC AUC Score : {auc:.4f}\")\n",
    "    print(\"\\nConfusion Matrix:\")\n",
    "    print(confusion_matrix(all_labels, all_preds))"
   ]
  },
  {
   "cell_type": "code",
   "execution_count": null,
   "id": "2a17d36a",
   "metadata": {},
   "outputs": [],
   "source": [
    "test_loader = data.test_loader\n",
    "evaluate_model(model, test_loader, device='cpu')"
   ]
  }
 ],
 "metadata": {
  "kernelspec": {
   "display_name": "base",
   "language": "python",
   "name": "python3"
  },
  "language_info": {
   "name": "python",
   "version": "3.11.5"
  }
 },
 "nbformat": 4,
 "nbformat_minor": 5
}
